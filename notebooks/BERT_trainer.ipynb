{
 "cells": [
  {
   "cell_type": "markdown",
   "metadata": {
    "id": "X4cRE8IbIrIV"
   },
   "source": [
    "# Fine tuning BERT model for text (relevancy) classification\n",
    "\n",
    "\n",
    "#### 0) Installation\n",
    "\n",
    "Make sure your version of Transformers is at least 4.11.0 since the functionality was introduced in that version:"
   ]
  },
  {
   "cell_type": "code",
   "execution_count": 2,
   "metadata": {
    "id": "MTMFcszvI8-I"
   },
   "outputs": [
    {
     "name": "stderr",
     "output_type": "stream",
     "text": [
      "/opt/homebrew/Caskroom/miniconda/base/envs/opensearch/lib/python3.10/site-packages/tqdm/auto.py:21: TqdmWarning: IProgress not found. Please update jupyter and ipywidgets. See https://ipywidgets.readthedocs.io/en/stable/user_install.html\n",
      "  from .autonotebook import tqdm as notebook_tqdm\n"
     ]
    },
    {
     "name": "stdout",
     "output_type": "stream",
     "text": [
      "4.45.1\n"
     ]
    }
   ],
   "source": [
    "import transformers\n",
    "print(transformers.__version__)"
   ]
  },
  {
   "cell_type": "markdown",
   "metadata": {},
   "source": [
    "Import supporting libraries:"
   ]
  },
  {
   "cell_type": "code",
   "execution_count": 4,
   "metadata": {},
   "outputs": [],
   "source": [
    "import pandas as pd\n",
    "pd.set_option('max_colwidth', 40)\n",
    "import torch\n",
    "import numpy as np\n",
    "from collections import Counter\n",
    "from tabulate import tabulate\n",
    "from tqdm import tqdm_notebook, tqdm\n",
    "tqdm.pandas()\n",
    "from sklearn.model_selection import train_test_split"
   ]
  },
  {
   "cell_type": "markdown",
   "metadata": {
    "id": "4RRkXuteIrIh"
   },
   "source": [
    "This notebook is built to run with any model checkpoint from the [Model Hub](https://huggingface.co/models) as long as that model has a version with a classification head. Depending on you model and the GPU you are using, you might need to adjust the batch size to avoid out-of-memory errors. Set those three parameters, then the rest of the notebook should run smoothly:"
   ]
  },
  {
   "cell_type": "code",
   "execution_count": 6,
   "metadata": {
    "id": "zVvslsfMIrIh"
   },
   "outputs": [],
   "source": [
    "model_checkpoint = \"allenai/scibert_scivocab_uncased\""
   ]
  },
  {
   "cell_type": "markdown",
   "metadata": {
    "id": "whPRbBNbIrIl"
   },
   "source": [
    "#### 1) Loading the dataset"
   ]
  },
  {
   "cell_type": "code",
   "execution_count": 7,
   "metadata": {},
   "outputs": [],
   "source": [
    "data_path = '../data/' # chemistry datasets"
   ]
  },
  {
   "cell_type": "code",
   "execution_count": 8,
   "metadata": {},
   "outputs": [
    {
     "data": {
      "text/plain": [
       "['test.csv', 'train.csv']"
      ]
     },
     "execution_count": 8,
     "metadata": {},
     "output_type": "execute_result"
    }
   ],
   "source": [
    "import os\n",
    "os.listdir('../data/')"
   ]
  },
  {
   "cell_type": "markdown",
   "metadata": {},
   "source": [
    "We import an RCC dataset (training & test splits)"
   ]
  },
  {
   "cell_type": "code",
   "execution_count": 9,
   "metadata": {},
   "outputs": [],
   "source": [
    "train_org = data_path + '/train.csv'\n",
    "test_org  = data_path + '/test.csv'"
   ]
  },
  {
   "cell_type": "code",
   "execution_count": 10,
   "metadata": {},
   "outputs": [],
   "source": [
    "df_train_org = pd.read_csv(train_org, sep=',', low_memory=False)\n",
    "df_test_org  = pd.read_csv(test_org, sep=',', low_memory=False)"
   ]
  },
  {
   "cell_type": "code",
   "execution_count": 11,
   "metadata": {},
   "outputs": [
    {
     "data": {
      "text/html": [
       "<div>\n",
       "<style scoped>\n",
       "    .dataframe tbody tr th:only-of-type {\n",
       "        vertical-align: middle;\n",
       "    }\n",
       "\n",
       "    .dataframe tbody tr th {\n",
       "        vertical-align: top;\n",
       "    }\n",
       "\n",
       "    .dataframe thead th {\n",
       "        text-align: right;\n",
       "    }\n",
       "</style>\n",
       "<table border=\"1\" class=\"dataframe\">\n",
       "  <thead>\n",
       "    <tr style=\"text-align: right;\">\n",
       "      <th></th>\n",
       "      <th>Id</th>\n",
       "      <th>Comment</th>\n",
       "      <th>Topic</th>\n",
       "    </tr>\n",
       "  </thead>\n",
       "  <tbody>\n",
       "    <tr>\n",
       "      <th>0</th>\n",
       "      <td>0x840</td>\n",
       "      <td>A few things. You might have negativ...</td>\n",
       "      <td>Biology</td>\n",
       "    </tr>\n",
       "    <tr>\n",
       "      <th>1</th>\n",
       "      <td>0xbf0</td>\n",
       "      <td>Is it so hard to believe that there ...</td>\n",
       "      <td>Physics</td>\n",
       "    </tr>\n",
       "    <tr>\n",
       "      <th>2</th>\n",
       "      <td>0x1dfc</td>\n",
       "      <td>There are bees</td>\n",
       "      <td>Biology</td>\n",
       "    </tr>\n",
       "  </tbody>\n",
       "</table>\n",
       "</div>"
      ],
      "text/plain": [
       "       Id                                  Comment    Topic\n",
       "0   0x840  A few things. You might have negativ...  Biology\n",
       "1   0xbf0  Is it so hard to believe that there ...  Physics\n",
       "2  0x1dfc                           There are bees  Biology"
      ]
     },
     "execution_count": 11,
     "metadata": {},
     "output_type": "execute_result"
    }
   ],
   "source": [
    "df_train_org.head(3)"
   ]
  },
  {
   "cell_type": "code",
   "execution_count": 12,
   "metadata": {},
   "outputs": [
    {
     "data": {
      "text/html": [
       "<div>\n",
       "<style scoped>\n",
       "    .dataframe tbody tr th:only-of-type {\n",
       "        vertical-align: middle;\n",
       "    }\n",
       "\n",
       "    .dataframe tbody tr th {\n",
       "        vertical-align: top;\n",
       "    }\n",
       "\n",
       "    .dataframe thead th {\n",
       "        text-align: right;\n",
       "    }\n",
       "</style>\n",
       "<table border=\"1\" class=\"dataframe\">\n",
       "  <thead>\n",
       "    <tr style=\"text-align: right;\">\n",
       "      <th></th>\n",
       "      <th>Id</th>\n",
       "      <th>Comment</th>\n",
       "      <th>Topic</th>\n",
       "    </tr>\n",
       "  </thead>\n",
       "  <tbody>\n",
       "    <tr>\n",
       "      <th>0</th>\n",
       "      <td>0x1aa9</td>\n",
       "      <td>Personally I have no idea what my IQ...</td>\n",
       "      <td>Biology</td>\n",
       "    </tr>\n",
       "    <tr>\n",
       "      <th>1</th>\n",
       "      <td>0x25e</td>\n",
       "      <td>I'm skeptical. A heavier lid would b...</td>\n",
       "      <td>Physics</td>\n",
       "    </tr>\n",
       "    <tr>\n",
       "      <th>2</th>\n",
       "      <td>0x1248</td>\n",
       "      <td>I think I have 100 cm of books on th...</td>\n",
       "      <td>Biology</td>\n",
       "    </tr>\n",
       "  </tbody>\n",
       "</table>\n",
       "</div>"
      ],
      "text/plain": [
       "       Id                                  Comment    Topic\n",
       "0  0x1aa9  Personally I have no idea what my IQ...  Biology\n",
       "1   0x25e  I'm skeptical. A heavier lid would b...  Physics\n",
       "2  0x1248  I think I have 100 cm of books on th...  Biology"
      ]
     },
     "execution_count": 12,
     "metadata": {},
     "output_type": "execute_result"
    }
   ],
   "source": [
    "df_test_org.head(3)"
   ]
  },
  {
   "cell_type": "code",
   "execution_count": 13,
   "metadata": {},
   "outputs": [
    {
     "data": {
      "text/plain": [
       "Topic\n",
       "Biology      0.412996\n",
       "Chemistry    0.335825\n",
       "Physics      0.251179\n",
       "Name: proportion, dtype: float64"
      ]
     },
     "execution_count": 13,
     "metadata": {},
     "output_type": "execute_result"
    }
   ],
   "source": [
    "df_train_org.Topic.value_counts(normalize=True)"
   ]
  },
  {
   "cell_type": "code",
   "execution_count": 14,
   "metadata": {},
   "outputs": [
    {
     "data": {
      "text/plain": [
       "Topic\n",
       "Biology      0.387137\n",
       "Chemistry    0.319042\n",
       "Physics      0.293821\n",
       "Name: proportion, dtype: float64"
      ]
     },
     "execution_count": 14,
     "metadata": {},
     "output_type": "execute_result"
    }
   ],
   "source": [
    "df_test_org.Topic.value_counts(normalize=True)"
   ]
  },
  {
   "cell_type": "markdown",
   "metadata": {},
   "source": [
    "#### 2) Pre-procesing dataset"
   ]
  },
  {
   "cell_type": "markdown",
   "metadata": {},
   "source": [
    "Tokenization and preprocessing"
   ]
  },
  {
   "cell_type": "code",
   "execution_count": 15,
   "metadata": {},
   "outputs": [],
   "source": [
    "sample_train_t = df_train_org.head(500)\n",
    "sample_train_f = df_train_org.tail(500)\n",
    "sample_train = pd.concat([sample_train_t, sample_train_f])"
   ]
  },
  {
   "cell_type": "code",
   "execution_count": 16,
   "metadata": {},
   "outputs": [],
   "source": [
    "label_dict = {'Biology':0, 'Chemistry':1, 'Physics':2 }"
   ]
  },
  {
   "cell_type": "code",
   "execution_count": 17,
   "metadata": {},
   "outputs": [],
   "source": [
    "sample_train['Classes'] = sample_train.Topic.apply(lambda x: label_dict[x])"
   ]
  },
  {
   "cell_type": "code",
   "execution_count": 18,
   "metadata": {},
   "outputs": [],
   "source": [
    "sample_train.to_csv(data_path + '/sample_train.csv', sep='\\t', index=False)"
   ]
  },
  {
   "cell_type": "code",
   "execution_count": 19,
   "metadata": {},
   "outputs": [],
   "source": [
    "text_train = sample_train.Comment.values\n",
    "labels_train = sample_train.Classes.values"
   ]
  },
  {
   "cell_type": "code",
   "execution_count": 20,
   "metadata": {},
   "outputs": [
    {
     "name": "stdout",
     "output_type": "stream",
     "text": [
      "500\n",
      "500\n",
      "1000\n",
      "<class 'numpy.ndarray'>\n",
      "<class 'numpy.ndarray'>\n"
     ]
    }
   ],
   "source": [
    "print(len(sample_train_t))\n",
    "print(len(sample_train_f))\n",
    "print(len(sample_train))\n",
    "print(type(labels_train))\n",
    "print(type(text_train))"
   ]
  },
  {
   "cell_type": "code",
   "execution_count": 21,
   "metadata": {},
   "outputs": [
    {
     "name": "stdout",
     "output_type": "stream",
     "text": [
      "There are different viruses that cause colds, and all of those viruses mutate, so even if you have immunity to one, that same one could mutate and express different proteins, or have different modes of infection. \\n\\nLook at it this way, you could be literally dying of a common cold if you're immune system had zero memory or capability of adapting as quick as it does, so actually its doing a pretty good job. \t\t 0\n",
      "They cant be being sold as that can they? \t\t 1\n",
      "And when it came out it went drip drip drip \t\t 0\n",
      "They kill dogs if they eat them. \t\t 0\n"
     ]
    }
   ],
   "source": [
    "print(text_train[200], '\\t\\t',labels_train[200])\n",
    "print(text_train[210], '\\t\\t',labels_train[210])\n",
    "print(text_train[550], '\\t\\t',labels_train[550])\n",
    "print(text_train[600], '\\t\\t',labels_train[600])"
   ]
  },
  {
   "cell_type": "code",
   "execution_count": 22,
   "metadata": {},
   "outputs": [
    {
     "data": {
      "text/plain": [
       "Counter({0: 413, 1: 349, 2: 238})"
      ]
     },
     "execution_count": 22,
     "metadata": {},
     "output_type": "execute_result"
    }
   ],
   "source": [
    "# Check label distribution\n",
    "Counter(labels_train)"
   ]
  },
  {
   "cell_type": "code",
   "execution_count": 23,
   "metadata": {},
   "outputs": [],
   "source": [
    "from transformers import AutoTokenizer \n",
    "tokenizer = AutoTokenizer.from_pretrained(model_checkpoint, use_fast=True)"
   ]
  },
  {
   "cell_type": "code",
   "execution_count": 24,
   "metadata": {},
   "outputs": [],
   "source": [
    "def print_rand_sentence():\n",
    "    '''\n",
    "    Displays the tokens and respective IDs of a random text sample\n",
    "    '''\n",
    "    index = np.random.randint(0, len(text_train)-1)\n",
    "    table = np.array([tokenizer.tokenize(text_train[index]), \n",
    "                    tokenizer.convert_tokens_to_ids(tokenizer.tokenize(text_train[index]))]).T\n",
    "    print(tabulate(table,\n",
    "                 headers = ['Tokens', 'Token IDs'],\n",
    "                 tablefmt = 'fancy_grid'))"
   ]
  },
  {
   "cell_type": "code",
   "execution_count": 25,
   "metadata": {},
   "outputs": [
    {
     "name": "stdout",
     "output_type": "stream",
     "text": [
      "╒═══════════╤═════════════╕\n",
      "│ Tokens    │   Token IDs │\n",
      "╞═══════════╪═════════════╡\n",
      "│ when      │         603 │\n",
      "├───────────┼─────────────┤\n",
      "│ i         │         259 │\n",
      "├───────────┼─────────────┤\n",
      "│ watch     │       21075 │\n",
      "├───────────┼─────────────┤\n",
      "│ ##ed      │         119 │\n",
      "├───────────┼─────────────┤\n",
      "│ the       │         111 │\n",
      "├───────────┼─────────────┤\n",
      "│ original  │        2592 │\n",
      "├───────────┼─────────────┤\n",
      "│ video     │        4081 │\n",
      "├───────────┼─────────────┤\n",
      "│ ,         │         422 │\n",
      "├───────────┼─────────────┤\n",
      "│ i         │         259 │\n",
      "├───────────┼─────────────┤\n",
      "│ was       │         241 │\n",
      "├───────────┼─────────────┤\n",
      "│ like      │        1967 │\n",
      "├───────────┼─────────────┤\n",
      "│ well      │         804 │\n",
      "├───────────┼─────────────┤\n",
      "│ this      │         238 │\n",
      "├───────────┼─────────────┤\n",
      "│ is        │         165 │\n",
      "├───────────┼─────────────┤\n",
      "│ cool      │        6240 │\n",
      "├───────────┼─────────────┤\n",
      "│ but       │         563 │\n",
      "├───────────┼─────────────┤\n",
      "│ why       │        4682 │\n",
      "├───────────┼─────────────┤\n",
      "│ can       │         300 │\n",
      "├───────────┼─────────────┤\n",
      "│ '         │        2505 │\n",
      "├───────────┼─────────────┤\n",
      "│ t         │         105 │\n",
      "├───────────┼─────────────┤\n",
      "│ we        │         185 │\n",
      "├───────────┼─────────────┤\n",
      "│ replicate │       13907 │\n",
      "├───────────┼─────────────┤\n",
      "│ it        │         256 │\n",
      "├───────────┼─────────────┤\n",
      "│ with      │         190 │\n",
      "├───────────┼─────────────┤\n",
      "│ a         │         106 │\n",
      "├───────────┼─────────────┤\n",
      "│ dro       │        6493 │\n",
      "├───────────┼─────────────┤\n",
      "│ ##ne      │         711 │\n",
      "├───────────┼─────────────┤\n",
      "│ and       │         137 │\n",
      "├───────────┼─────────────┤\n",
      "│ string    │        6298 │\n",
      "├───────────┼─────────────┤\n",
      "│ ?         │        3912 │\n",
      "╘═══════════╧═════════════╛\n"
     ]
    }
   ],
   "source": [
    "print_rand_sentence()"
   ]
  },
  {
   "cell_type": "code",
   "execution_count": 26,
   "metadata": {},
   "outputs": [],
   "source": [
    "def preprocessing(input_text, tokenizer):\n",
    "    '''\n",
    "    Returns <class transformers.tokenization_utils_base.BatchEncoding> with the following fields:\n",
    "    \n",
    "     - input_ids:      list of token ids\n",
    "     - token_type_ids: list of token type ids\n",
    "     - attention_mask: list of indices (0,1) specifying which tokens should considered by the model (return_attention_mask = True)\n",
    "     \n",
    "    '''\n",
    "    return tokenizer.encode_plus(\n",
    "                        input_text,\n",
    "                        add_special_tokens = True,\n",
    "                        max_length = 32,\n",
    "                        truncation=True,\n",
    "                        padding = 'max_length',\n",
    "                        return_attention_mask = True,\n",
    "                        return_tensors = 'pt'\n",
    "                   )"
   ]
  },
  {
   "cell_type": "markdown",
   "metadata": {},
   "source": [
    "Pre-process dataset"
   ]
  },
  {
   "cell_type": "code",
   "execution_count": 27,
   "metadata": {},
   "outputs": [
    {
     "name": "stderr",
     "output_type": "stream",
     "text": [
      "100%|██████████████████████████████████████████████████████████████████████████████████████████████████████████████████████████████████████████████████████████████████████████████████████████████████| 1000/1000 [00:00<00:00, 8225.50it/s]\n"
     ]
    }
   ],
   "source": [
    "token_id = []\n",
    "attention_masks = []\n",
    "\n",
    "# Process\n",
    "for sample in tqdm(text_train):\n",
    "    encoding_dict = preprocessing(sample, tokenizer)\n",
    "    token_id.append(encoding_dict['input_ids']) \n",
    "    attention_masks.append(encoding_dict['attention_mask'])\n",
    "\n",
    "# Store as tensor    \n",
    "token_id = torch.cat(token_id, dim = 0)\n",
    "attention_masks = torch.cat(attention_masks, dim = 0)\n",
    "labels = torch.tensor(labels_train)"
   ]
  },
  {
   "cell_type": "code",
   "execution_count": 30,
   "metadata": {},
   "outputs": [
    {
     "data": {
      "text/plain": [
       "tensor([  102, 13723,   175,   256,   692,  5296,   359,   137,  1461,  1792,\n",
       "        11302,   103,     0,     0,     0,     0,     0,     0,     0,     0,\n",
       "            0,     0,     0,     0,     0,     0,     0,     0,     0,     0,\n",
       "            0,     0])"
      ]
     },
     "execution_count": 30,
     "metadata": {},
     "output_type": "execute_result"
    }
   ],
   "source": [
    "token_id[6]"
   ]
  },
  {
   "cell_type": "code",
   "execution_count": 31,
   "metadata": {},
   "outputs": [],
   "source": [
    "def print_rand_sentence_encoding():\n",
    "    '''\n",
    "    Displays tokens, token IDs and attention mask of a random text sample\n",
    "    '''\n",
    "    index = np.random.randint(0, len(text_train) - 1)\n",
    "    tokens = tokenizer.tokenize(tokenizer.decode(token_id[index]))\n",
    "    token_ids = [i.numpy() for i in token_id[index]]\n",
    "    attention = [i.numpy() for i in attention_masks[index]]\n",
    "    table = np.array([tokens, token_ids, attention]).T\n",
    "    print(tabulate(table, \n",
    "                 headers = ['Tokens', 'Token IDs', 'Attention Mask'],\n",
    "                 tablefmt = 'fancy_grid'))"
   ]
  },
  {
   "cell_type": "code",
   "execution_count": 32,
   "metadata": {},
   "outputs": [
    {
     "name": "stdout",
     "output_type": "stream",
     "text": [
      "╒═══════════╤═════════════╤══════════════════╕\n",
      "│ Tokens    │   Token IDs │   Attention Mask │\n",
      "╞═══════════╪═════════════╪══════════════════╡\n",
      "│ [CLS]     │         102 │                1 │\n",
      "├───────────┼─────────────┼──────────────────┤\n",
      "│ noble     │       28596 │                1 │\n",
      "├───────────┼─────────────┼──────────────────┤\n",
      "│ gases     │       15317 │                1 │\n",
      "├───────────┼─────────────┼──────────────────┤\n",
      "│ almost    │        3343 │                1 │\n",
      "├───────────┼─────────────┼──────────────────┤\n",
      "│ never     │        3449 │                1 │\n",
      "├───────────┼─────────────┼──────────────────┤\n",
      "│ react     │        6757 │                1 │\n",
      "├───────────┼─────────────┼──────────────────┤\n",
      "│ unless    │        7982 │                1 │\n",
      "├───────────┼─────────────┼──────────────────┤\n",
      "│ you       │        3034 │                1 │\n",
      "├───────────┼─────────────┼──────────────────┤\n",
      "│ '         │        2505 │                1 │\n",
      "├───────────┼─────────────┼──────────────────┤\n",
      "│ re        │         144 │                1 │\n",
      "├───────────┼─────────────┼──────────────────┤\n",
      "│ trying    │       12199 │                1 │\n",
      "├───────────┼─────────────┼──────────────────┤\n",
      "│ to        │         147 │                1 │\n",
      "├───────────┼─────────────┼──────────────────┤\n",
      "│ make      │        2113 │                1 │\n",
      "├───────────┼─────────────┼──────────────────┤\n",
      "│ them      │        1445 │                1 │\n",
      "├───────────┼─────────────┼──────────────────┤\n",
      "│ react     │        6757 │                1 │\n",
      "├───────────┼─────────────┼──────────────────┤\n",
      "│ .         │         205 │                1 │\n",
      "├───────────┼─────────────┼──────────────────┤\n",
      "│ generally │        3013 │                1 │\n",
      "├───────────┼─────────────┼──────────────────┤\n",
      "│ you       │        3034 │                1 │\n",
      "├───────────┼─────────────┼──────────────────┤\n",
      "│ need      │         965 │                1 │\n",
      "├───────────┼─────────────┼──────────────────┤\n",
      "│ something │        8973 │                1 │\n",
      "├───────────┼─────────────┼──────────────────┤\n",
      "│ like      │        1967 │                1 │\n",
      "├───────────┼─────────────┼──────────────────┤\n",
      "│ a         │         106 │                1 │\n",
      "├───────────┼─────────────┼──────────────────┤\n",
      "│ really    │        9695 │                1 │\n",
      "├───────────┼─────────────┼──────────────────┤\n",
      "│ powerful  │        7669 │                1 │\n",
      "├───────────┼─────────────┼──────────────────┤\n",
      "│ oxid      │        3035 │                1 │\n",
      "├───────────┼─────────────┼──────────────────┤\n",
      "│ ##izer    │        6835 │                1 │\n",
      "├───────────┼─────────────┼──────────────────┤\n",
      "│ like      │        1967 │                1 │\n",
      "├───────────┼─────────────┼──────────────────┤\n",
      "│ platinum  │       18404 │                1 │\n",
      "├───────────┼─────────────┼──────────────────┤\n",
      "│ hex       │        7716 │                1 │\n",
      "├───────────┼─────────────┼──────────────────┤\n",
      "│ ##al      │         120 │                1 │\n",
      "├───────────┼─────────────┼──────────────────┤\n",
      "│ ##fu      │       10916 │                1 │\n",
      "├───────────┼─────────────┼──────────────────┤\n",
      "│ [SEP]     │         103 │                1 │\n",
      "╘═══════════╧═════════════╧══════════════════╛\n"
     ]
    }
   ],
   "source": [
    "print_rand_sentence_encoding()"
   ]
  },
  {
   "cell_type": "markdown",
   "metadata": {},
   "source": [
    "#### 3) Training"
   ]
  },
  {
   "cell_type": "markdown",
   "metadata": {},
   "source": [
    "Data preparation:\n",
    "\n",
    "- split into train & validation\n",
    "- convert to tensors"
   ]
  },
  {
   "cell_type": "code",
   "execution_count": 33,
   "metadata": {},
   "outputs": [],
   "source": [
    "# 80% for training, 20% for validation\n",
    "val_ratio = 0.2\n",
    "\n",
    "# Recommended batch size: 16, 32. \n",
    "# See: https://arxiv.org/pdf/1810.04805.pdf\n",
    "batch_size = 16\n",
    "\n",
    "# Indices of the train and validation splits stratified by labels\n",
    "train_idx, val_idx = train_test_split(\n",
    "    np.arange(len(labels)),\n",
    "    test_size = val_ratio,\n",
    "    shuffle = True,\n",
    "    stratify = labels)\n",
    "\n",
    "# Train and validation sets\n",
    "train_set = torch.utils.data.TensorDataset(token_id[train_idx], \n",
    "                          attention_masks[train_idx], \n",
    "                          labels[train_idx])\n",
    "\n",
    "val_set = torch.utils.data.TensorDataset(token_id[val_idx], \n",
    "                        attention_masks[val_idx], \n",
    "                        labels[val_idx])\n",
    "\n",
    "# Prepare DataLoader\n",
    "train_dataloader = torch.utils.data.DataLoader(\n",
    "            train_set,\n",
    "            sampler = torch.utils.data.RandomSampler(train_set),\n",
    "            batch_size = batch_size\n",
    "        )\n",
    "\n",
    "validation_dataloader = torch.utils.data.DataLoader(\n",
    "            val_set,\n",
    "            sampler = torch.utils.data.SequentialSampler(val_set),\n",
    "            batch_size = batch_size\n",
    "        )"
   ]
  },
  {
   "cell_type": "code",
   "execution_count": 34,
   "metadata": {},
   "outputs": [
    {
     "data": {
      "text/plain": [
       "50"
      ]
     },
     "execution_count": 34,
     "metadata": {},
     "output_type": "execute_result"
    }
   ],
   "source": [
    "len(train_dataloader)"
   ]
  },
  {
   "cell_type": "code",
   "execution_count": 35,
   "metadata": {},
   "outputs": [
    {
     "data": {
      "text/plain": [
       "13"
      ]
     },
     "execution_count": 35,
     "metadata": {},
     "output_type": "execute_result"
    }
   ],
   "source": [
    "len(validation_dataloader)"
   ]
  },
  {
   "cell_type": "markdown",
   "metadata": {},
   "source": [
    "Performance metrics"
   ]
  },
  {
   "cell_type": "code",
   "execution_count": 36,
   "metadata": {},
   "outputs": [],
   "source": [
    "def b_tp(preds, labels):\n",
    "    '''Returns True Positives (TP): count of correct predictions of actual class 1'''\n",
    "    return sum([preds == labels and preds == 1 for preds, labels in zip(preds, labels)])\n",
    "\n",
    "def b_fp(preds, labels):\n",
    "    '''Returns False Positives (FP): count of wrong predictions of actual class 1'''\n",
    "    return sum([preds != labels and preds == 1 for preds, labels in zip(preds, labels)])\n",
    "\n",
    "def b_tn(preds, labels):\n",
    "    '''Returns True Negatives (TN): count of correct predictions of actual class 0'''\n",
    "    return sum([preds == labels and preds == 0 for preds, labels in zip(preds, labels)])\n",
    "\n",
    "def b_fn(preds, labels):\n",
    "    '''Returns False Negatives (FN): count of wrong predictions of actual class 0'''\n",
    "    return sum([preds != labels and preds == 0 for preds, labels in zip(preds, labels)])\n",
    "\n",
    "def b_metrics(preds, labels):\n",
    "    '''\n",
    "    Returns the following metrics:\n",
    "    - accuracy    = (TP + TN) / N\n",
    "    - precision   = TP / (TP + FP)\n",
    "    - recall      = TP / (TP + FN)\n",
    "    - specificity = TN / (TN + FP)\n",
    "    '''\n",
    "    preds = np.argmax(preds, axis = 1).flatten()\n",
    "    labels = labels.flatten()\n",
    "    tp = b_tp(preds, labels)\n",
    "    tn = b_tn(preds, labels)\n",
    "    fp = b_fp(preds, labels)\n",
    "    fn = b_fn(preds, labels)\n",
    "    b_accuracy = (tp + tn) / len(labels)\n",
    "    b_precision = tp / (tp + fp) if (tp + fp) > 0 else 'nan'\n",
    "    b_recall = tp / (tp + fn) if (tp + fn) > 0 else 'nan'\n",
    "    b_specificity = tn / (tn + fp) if (tn + fp) > 0 else 'nan'\n",
    "    return b_accuracy, b_precision, b_recall, b_specificity"
   ]
  },
  {
   "cell_type": "markdown",
   "metadata": {},
   "source": [
    "Get BERT model"
   ]
  },
  {
   "cell_type": "code",
   "execution_count": 37,
   "metadata": {},
   "outputs": [
    {
     "name": "stderr",
     "output_type": "stream",
     "text": [
      "Some weights of BertForSequenceClassification were not initialized from the model checkpoint at allenai/scibert_scivocab_uncased and are newly initialized: ['classifier.bias', 'classifier.weight']\n",
      "You should probably TRAIN this model on a down-stream task to be able to use it for predictions and inference.\n"
     ]
    }
   ],
   "source": [
    "from transformers import AutoModelForSequenceClassification\n",
    "\n",
    "# Load the BertForSequenceClassification model\n",
    "model = AutoModelForSequenceClassification.from_pretrained(\n",
    "    model_checkpoint,\n",
    "    num_labels = 3,\n",
    "    output_attentions = False,\n",
    "    output_hidden_states = False,\n",
    ")\n",
    "\n",
    "# Recommended learning rates (Adam): 5e-5, 3e-5, 2e-5. See: https://arxiv.org/pdf/1810.04805.pdf\n",
    "optimizer = torch.optim.AdamW(model.parameters(), \n",
    "                              lr = 5e-5,\n",
    "                              eps = 1e-08\n",
    "                              )"
   ]
  },
  {
   "cell_type": "code",
   "execution_count": 39,
   "metadata": {},
   "outputs": [
    {
     "data": {
      "text/plain": [
       "=====================================================================================\n",
       "Layer (type:depth-idx)                                       Param #\n",
       "=====================================================================================\n",
       "BertForSequenceClassification                                --\n",
       "├─BertModel: 1-1                                             --\n",
       "│    └─BertEmbeddings: 2-1                                   --\n",
       "│    │    └─Embedding: 3-1                                   23,877,120\n",
       "│    │    └─Embedding: 3-2                                   393,216\n",
       "│    │    └─Embedding: 3-3                                   1,536\n",
       "│    │    └─LayerNorm: 3-4                                   1,536\n",
       "│    │    └─Dropout: 3-5                                     --\n",
       "│    └─BertEncoder: 2-2                                      --\n",
       "│    │    └─ModuleList: 3-6                                  85,054,464\n",
       "│    └─BertPooler: 2-3                                       --\n",
       "│    │    └─Linear: 3-7                                      590,592\n",
       "│    │    └─Tanh: 3-8                                        --\n",
       "├─Dropout: 1-2                                               --\n",
       "├─Linear: 1-3                                                2,307\n",
       "=====================================================================================\n",
       "Total params: 109,920,771\n",
       "Trainable params: 109,920,771\n",
       "Non-trainable params: 0\n",
       "====================================================================================="
      ]
     },
     "execution_count": 39,
     "metadata": {},
     "output_type": "execute_result"
    }
   ],
   "source": [
    "# Visualize model statistics\n",
    "from torchinfo import summary\n",
    "summary(model, verbose=0)"
   ]
  },
  {
   "cell_type": "code",
   "execution_count": 40,
   "metadata": {},
   "outputs": [],
   "source": [
    "# Set up device\n",
    "if torch.cuda.is_available():\n",
    "    torch.device('cuda')\n",
    "else:\n",
    "    torch.device('cpu')"
   ]
  },
  {
   "cell_type": "code",
   "execution_count": 41,
   "metadata": {},
   "outputs": [],
   "source": [
    "# Run on GPU\n",
    "# model.cuda()"
   ]
  },
  {
   "cell_type": "markdown",
   "metadata": {},
   "source": [
    "Train model for K epochs:"
   ]
  },
  {
   "cell_type": "code",
   "execution_count": 42,
   "metadata": {},
   "outputs": [
    {
     "name": "stderr",
     "output_type": "stream",
     "text": [
      "Epoch:  50%|█████████████████████████████████████████████████████████████████████████████████████████████████▌                                                                                                 | 1/2 [00:21<00:21, 21.47s/it]"
     ]
    },
    {
     "name": "stdout",
     "output_type": "stream",
     "text": [
      "\n",
      "\t - Train loss: 0.9965\n",
      "\t - Validation Accuracy: 0.4760\n",
      "\t - Validation Precision: 0.4346\n",
      "\t - Validation Recall: 0.9718\n",
      "\t - Validation Specificity: 0.2122\n",
      "\n"
     ]
    },
    {
     "name": "stderr",
     "output_type": "stream",
     "text": [
      "Epoch: 100%|███████████████████████████████████████████████████████████████████████████████████████████████████████████████████████████████████████████████████████████████████████████████████████████████████| 2/2 [00:43<00:00, 21.64s/it]"
     ]
    },
    {
     "name": "stdout",
     "output_type": "stream",
     "text": [
      "\n",
      "\t - Train loss: 0.6756\n",
      "\t - Validation Accuracy: 0.5625\n",
      "\t - Validation Precision: 0.7064\n",
      "\t - Validation Recall: 0.4702\n",
      "\t - Validation Specificity: 0.8158\n",
      "\n"
     ]
    },
    {
     "name": "stderr",
     "output_type": "stream",
     "text": [
      "\n"
     ]
    }
   ],
   "source": [
    "device = torch.device('cuda' if torch.cuda.is_available() else 'cpu')\n",
    "\n",
    "# Recommended number of epochs: 2, 3, 4. See: https://arxiv.org/pdf/1810.04805.pdf\n",
    "epochs = 2\n",
    "\n",
    "for _ in tqdm(range(epochs), desc = 'Epoch'):\n",
    "    \n",
    "    # ========== Training ==========\n",
    "    \n",
    "    # Set model to training mode\n",
    "    model.train()\n",
    "    \n",
    "    # Tracking variables\n",
    "    tr_loss = 0\n",
    "    nb_tr_examples, nb_tr_steps = 0, 0\n",
    "\n",
    "    for step, batch in enumerate(train_dataloader):\n",
    "        batch = tuple(t.to(device) for t in batch)\n",
    "        b_input_ids, b_input_mask, b_labels = batch\n",
    "        optimizer.zero_grad()\n",
    "        # Forward pass\n",
    "        train_output = model(b_input_ids, \n",
    "                             #token_type_ids = None, \n",
    "                             attention_mask = b_input_mask, \n",
    "                             labels = b_labels)\n",
    "        # Backward pass\n",
    "        train_output.loss.backward()\n",
    "        optimizer.step()\n",
    "        # Update tracking variables\n",
    "        tr_loss += train_output.loss.item()\n",
    "        nb_tr_examples += b_input_ids.size(0)\n",
    "        nb_tr_steps += 1\n",
    "\n",
    "    # ========== Validation ==========\n",
    "\n",
    "    # Set model to evaluation mode\n",
    "    model.eval()\n",
    "\n",
    "    # Tracking variables \n",
    "    val_accuracy = []\n",
    "    val_precision = []\n",
    "    val_recall = []\n",
    "    val_specificity = []\n",
    "\n",
    "    for batch in validation_dataloader:\n",
    "        batch = tuple(t.to(device) for t in batch)\n",
    "        b_input_ids, b_input_mask, b_labels = batch\n",
    "        with torch.no_grad():\n",
    "          # Forward pass\n",
    "          eval_output = model(b_input_ids, \n",
    "                              #token_type_ids = None, \n",
    "                              attention_mask = b_input_mask)\n",
    "        logits = eval_output.logits.detach().cpu().numpy()\n",
    "        label_ids = b_labels.to('cpu').numpy()\n",
    "        # Calculate validation metrics\n",
    "        b_accuracy, b_precision, b_recall, b_specificity = b_metrics(logits, label_ids)\n",
    "        val_accuracy.append(b_accuracy)\n",
    "        # Update precision only when (tp + fp) !=0; ignore nan\n",
    "        if b_precision != 'nan': val_precision.append(b_precision)\n",
    "        # Update recall only when (tp + fn) !=0; ignore nan\n",
    "        if b_recall != 'nan': val_recall.append(b_recall)\n",
    "        # Update specificity only when (tn + fp) !=0; ignore nan\n",
    "        if b_specificity != 'nan': val_specificity.append(b_specificity)\n",
    "\n",
    "    print('\\n\\t - Train loss: {:.4f}'.format(tr_loss / nb_tr_steps))\n",
    "    print('\\t - Validation Accuracy: {:.4f}'.format(sum(val_accuracy)/len(val_accuracy)))\n",
    "    print('\\t - Validation Precision: {:.4f}'.format(sum(val_precision)/len(val_precision)) if len(val_precision)>0 else '\\t - Validation Precision: NaN')\n",
    "    print('\\t - Validation Recall: {:.4f}'.format(sum(val_recall)/len(val_recall)) if len(val_recall)>0 else '\\t - Validation Recall: NaN')\n",
    "    print('\\t - Validation Specificity: {:.4f}\\n'.format(sum(val_specificity)/len(val_specificity)) if len(val_specificity)>0 else '\\t - Validation Specificity: NaN')"
   ]
  },
  {
   "cell_type": "markdown",
   "metadata": {},
   "source": [
    "#### 4) Inference"
   ]
  },
  {
   "cell_type": "markdown",
   "metadata": {},
   "source": [
    "Predict if context is relevant:"
   ]
  },
  {
   "cell_type": "code",
   "execution_count": 43,
   "metadata": {},
   "outputs": [
    {
     "name": "stdout",
     "output_type": "stream",
     "text": [
      "Input  Sentence:\t Hmm, im not sure! I can’t find any parrots that look like that : (\\n\\nBirds are usually hard to gender unless they have physical differences, vets have to do a blood dna test to find out\n",
      "Input     Class:\t {'Biology': 0, 'Chemistry': 1, 'Physics': 2}\n",
      "Predicted Class:\t 0\n"
     ]
    }
   ],
   "source": [
    "new_sentence = df_test_org.Comment.values[100]\n",
    "new_label = df_test_org.Topic.apply(lambda x: label_dict).values[100]\n",
    "\n",
    "# We need Token IDs and Attention Mask for inference on the new sentence\n",
    "test_ids = []\n",
    "test_attention_mask = []\n",
    "\n",
    "# Apply the tokenizer\n",
    "encoding = preprocessing(new_sentence, tokenizer)\n",
    "\n",
    "# Extract IDs and Attention Mask\n",
    "test_ids.append(encoding['input_ids'])\n",
    "test_attention_mask.append(encoding['attention_mask'])\n",
    "test_ids = torch.cat(test_ids, dim = 0)\n",
    "test_attention_mask = torch.cat(test_attention_mask, dim = 0)\n",
    "\n",
    "# Forward pass, calculate logit predictions\n",
    "with torch.no_grad():\n",
    "    output = model(test_ids.to(device), attention_mask = test_attention_mask.to(device))\n",
    "\n",
    "# Prediction format\n",
    "# 1: chemistry\n",
    "# 0: biology\n",
    "# 2: physics\n",
    "prediction = np.argmax(output.logits.cpu().numpy()).flatten().item()\n",
    "\n",
    "print('Input  Sentence:\\t', new_sentence)\n",
    "print('Input     Class:\\t', new_label)\n",
    "print('Predicted Class:\\t', prediction)"
   ]
  },
  {
   "cell_type": "code",
   "execution_count": 44,
   "metadata": {},
   "outputs": [
    {
     "name": "stdout",
     "output_type": "stream",
     "text": [
      "Input  Sentence:\t MOND has a problem for pretty much any galaxy cluster, there is a mass deficit. The higher the mass the larger the discrepancy, El Gordo is just the largest. But you can still wave your hands and say some baryons have been missed, or there is some second order effect. The Bullet Cluster presents a different problem. There most of the baryonic matter has been stripped out of the cluster centres, but the lensing is still centred on the cluster cores.\n",
      "Input     Class:\t {'Biology': 0, 'Chemistry': 1, 'Physics': 2}\n",
      "Predicted Class:\t 0\n"
     ]
    }
   ],
   "source": [
    "new_sentence = df_test_org.Comment.values[12]\n",
    "new_label = df_test_org.Topic.apply(lambda x: label_dict).values[12]\n",
    "\n",
    "# We need Token IDs and Attention Mask for inference on the new sentence\n",
    "test_ids = []\n",
    "test_attention_mask = []\n",
    "\n",
    "# Apply the tokenizer\n",
    "encoding = preprocessing(new_sentence, tokenizer)\n",
    "\n",
    "# Extract IDs and Attention Mask\n",
    "test_ids.append(encoding['input_ids'])\n",
    "test_attention_mask.append(encoding['attention_mask'])\n",
    "test_ids = torch.cat(test_ids, dim = 0)\n",
    "test_attention_mask = torch.cat(test_attention_mask, dim = 0)\n",
    "\n",
    "# Forward pass, calculate logit predictions\n",
    "with torch.no_grad():\n",
    "    output = model(test_ids.to(device), attention_mask = test_attention_mask.to(device))\n",
    "\n",
    "# Prediction format\n",
    "# 1: chemistry\n",
    "# 0: biology\n",
    "# 2: physics\n",
    "prediction = np.argmax(output.logits.cpu().numpy()).flatten().item()\n",
    "\n",
    "print('Input  Sentence:\\t', new_sentence)\n",
    "print('Input     Class:\\t', new_label)\n",
    "print('Predicted Class:\\t', prediction)"
   ]
  },
  {
   "cell_type": "markdown",
   "metadata": {},
   "source": [
    "#### 5) Save model and tokenizer"
   ]
  },
  {
   "cell_type": "code",
   "execution_count": null,
   "metadata": {},
   "outputs": [],
   "source": [
    "!mkdir ../model\n",
    "!mkdir ../model/classif\n",
    "!mkdir ../model/tokenizer"
   ]
  },
  {
   "cell_type": "code",
   "execution_count": 45,
   "metadata": {},
   "outputs": [],
   "source": [
    "model.save_pretrained('../model/classif')"
   ]
  },
  {
   "cell_type": "code",
   "execution_count": null,
   "metadata": {},
   "outputs": [],
   "source": [
    "tokenizer.save_pretrained('../model/tokenizer')"
   ]
  },
  {
   "cell_type": "markdown",
   "metadata": {},
   "source": [
    "#### 6) Performance statistics"
   ]
  },
  {
   "cell_type": "code",
   "execution_count": 46,
   "metadata": {},
   "outputs": [
    {
     "name": "stderr",
     "output_type": "stream",
     "text": [
      "huggingface/tokenizers: The current process just got forked, after parallelism has already been used. Disabling parallelism to avoid deadlocks...\n",
      "To disable this warning, you can either:\n",
      "\t- Avoid using `tokenizers` before the fork if possible\n",
      "\t- Explicitly set the environment variable TOKENIZERS_PARALLELISM=(true | false)\n",
      "huggingface/tokenizers: The current process just got forked, after parallelism has already been used. Disabling parallelism to avoid deadlocks...\n",
      "To disable this warning, you can either:\n",
      "\t- Avoid using `tokenizers` before the fork if possible\n",
      "\t- Explicitly set the environment variable TOKENIZERS_PARALLELISM=(true | false)\n",
      "huggingface/tokenizers: The current process just got forked, after parallelism has already been used. Disabling parallelism to avoid deadlocks...\n",
      "To disable this warning, you can either:\n",
      "\t- Avoid using `tokenizers` before the fork if possible\n",
      "\t- Explicitly set the environment variable TOKENIZERS_PARALLELISM=(true | false)\n",
      "Matplotlib is building the font cache; this may take a moment.\n"
     ]
    }
   ],
   "source": [
    "from sklearn.metrics import classification_report\n",
    "from sklearn.metrics import roc_auc_score, precision_recall_curve, f1_score\n",
    "import matplotlib.pyplot as plt\n",
    "from datetime import date"
   ]
  },
  {
   "cell_type": "markdown",
   "metadata": {},
   "source": [
    "Helper functions"
   ]
  },
  {
   "cell_type": "code",
   "execution_count": 47,
   "metadata": {},
   "outputs": [],
   "source": [
    "def model_inference(in_model, in_tokenizer, in_sentence):\n",
    "    '''\n",
    "    Apply model `model` to input sentence `s`\n",
    "    '''\n",
    "    # We need Token IDs and Attention Mask for inference on the new sentence\n",
    "    test_ids = []\n",
    "    test_attention_mask = []\n",
    "    # Apply the tokenizer\n",
    "    encoding = preprocessing(in_sentence, in_tokenizer)\n",
    "    # Extract IDs and Attention Mask\n",
    "    test_ids.append(encoding['input_ids'])\n",
    "    test_attention_mask.append(encoding['attention_mask'])\n",
    "    test_ids = torch.cat(test_ids, dim = 0)\n",
    "    test_attention_mask = torch.cat(test_attention_mask, dim = 0)\n",
    "    # Forward pass, calculate logit predictions\n",
    "    with torch.no_grad():\n",
    "        output = in_model(test_ids.to(device), attention_mask = test_attention_mask.to(device))\n",
    "    # Predictions and probabilities\n",
    "    prob = torch.softmax(output.logits.cpu()[0],-1).numpy()[1]\n",
    "    prediction = np.argmax(output.logits.cpu().numpy()).flatten().item()\n",
    "    #print (prob, prediction)\n",
    "    return prob, prediction"
   ]
  },
  {
   "cell_type": "code",
   "execution_count": 48,
   "metadata": {},
   "outputs": [],
   "source": [
    "def plot_prec_recall_curve(df, save = False):\n",
    "    '''\n",
    "    Plot precision-recall curves\n",
    "    '''\n",
    "    precisions, recalls, thresholds = precision_recall_curve(df['Chemical'].values, \n",
    "                                                             df['Probability'].values,\n",
    "                                                             pos_label=1)\n",
    "    f1s = (2 * precisions * recalls) / (precisions + recalls)\n",
    "    plt.figure(1)\n",
    "    plt.title(\"Precision-Recall Curve\")\n",
    "    plt.plot(thresholds, precisions[0:-1], 'b', label='Precision')\n",
    "    plt.plot(thresholds, recalls[0:-1], 'g', label='Recall')\n",
    "    plt.plot(thresholds, f1s[0:-1], 'r', label='F1-score')\n",
    "    plt.xlabel('Confidence Score')\n",
    "    plt.legend(bbox_to_anchor=(1.05, 1), loc=2, borderaxespad=0.)\n",
    "    plt.ylim([0, 1])\n",
    "    plt.xlim([0, 1])\n",
    "    today = date.today()\n",
    "    if save:\n",
    "        plt.savefig(data_path + '/prec_recall_curve_'+str(today)+'.png',bbox_inches='tight')"
   ]
  },
  {
   "cell_type": "code",
   "execution_count": 49,
   "metadata": {},
   "outputs": [],
   "source": [
    "def model_inference_evaluation(mod_df, save_plot = False):\n",
    "    '''\n",
    "    Evaluate model on dataframe\n",
    "    '''\n",
    "    df_test_dd = mod_df[['Id', 'Topic','Probability','Chemical']].copy()\n",
    "    df_test_dd = df_test_dd.drop_duplicates()   \n",
    "    # Generate evaluation stats\n",
    "    print(classification_report(mod_df['Chemical'], mod_df['Prediction']))\n",
    "    print('ROC Score:', roc_auc_score(mod_df['Chemical'], mod_df['Prediction']))\n",
    "    print('F1 Score:', f1_score(mod_df['Chemical'], mod_df['Prediction']))\n",
    "    plot_prec_recall_curve(mod_df, save_plot)"
   ]
  },
  {
   "cell_type": "markdown",
   "metadata": {},
   "source": [
    "Evaluate on test set\n",
    "\n",
    "The model takes ~10s per instance on CPU"
   ]
  },
  {
   "cell_type": "code",
   "execution_count": 50,
   "metadata": {},
   "outputs": [
    {
     "data": {
      "text/plain": [
       "Topic\n",
       "Biology      0.387137\n",
       "Chemistry    0.319042\n",
       "Physics      0.293821\n",
       "Name: proportion, dtype: float64"
      ]
     },
     "execution_count": 50,
     "metadata": {},
     "output_type": "execute_result"
    }
   ],
   "source": [
    "df_test_org_x = df_test_org.head(2000)\n",
    "df_test_org_x.Topic.value_counts(normalize=True)"
   ]
  },
  {
   "cell_type": "code",
   "execution_count": 51,
   "metadata": {},
   "outputs": [],
   "source": [
    "df_test_org_x.to_csv(data_path + '/sample_test_raw.csv', sep='\\t', index=False)"
   ]
  },
  {
   "cell_type": "code",
   "execution_count": 52,
   "metadata": {},
   "outputs": [
    {
     "name": "stderr",
     "output_type": "stream",
     "text": [
      "100%|████████████████████████████████████████████████████████████████████████████████████████████████████████████████████████████████████████████████████████████████████████████████████████████████████| 1586/1586 [00:24<00:00, 65.51it/s]\n"
     ]
    }
   ],
   "source": [
    "preds = df_test_org_x.Comment.progress_apply(lambda s: model_inference(model, tokenizer, s))"
   ]
  },
  {
   "cell_type": "code",
   "execution_count": 53,
   "metadata": {},
   "outputs": [
    {
     "data": {
      "text/plain": [
       "0    (0.29777467, 0)\n",
       "1    (0.39540517, 1)\n",
       "2     (0.0882736, 0)\n",
       "Name: Comment, dtype: object"
      ]
     },
     "execution_count": 53,
     "metadata": {},
     "output_type": "execute_result"
    }
   ],
   "source": [
    "preds.head(3)"
   ]
  },
  {
   "cell_type": "code",
   "execution_count": 54,
   "metadata": {},
   "outputs": [
    {
     "data": {
      "text/html": [
       "<div>\n",
       "<style scoped>\n",
       "    .dataframe tbody tr th:only-of-type {\n",
       "        vertical-align: middle;\n",
       "    }\n",
       "\n",
       "    .dataframe tbody tr th {\n",
       "        vertical-align: top;\n",
       "    }\n",
       "\n",
       "    .dataframe thead th {\n",
       "        text-align: right;\n",
       "    }\n",
       "</style>\n",
       "<table border=\"1\" class=\"dataframe\">\n",
       "  <thead>\n",
       "    <tr style=\"text-align: right;\">\n",
       "      <th></th>\n",
       "      <th>Comment</th>\n",
       "      <th>Probability</th>\n",
       "      <th>Chemical</th>\n",
       "      <th>Prediction</th>\n",
       "    </tr>\n",
       "  </thead>\n",
       "  <tbody>\n",
       "    <tr>\n",
       "      <th>3</th>\n",
       "      <td>Is chemistry hard in uni. Ive read somewhere that its the hardest degree. But ive really been en...</td>\n",
       "      <td>0.889229</td>\n",
       "      <td>1</td>\n",
       "      <td>1</td>\n",
       "    </tr>\n",
       "    <tr>\n",
       "      <th>5</th>\n",
       "      <td>It's probably my perspective too because I lived in London (250+ ppm) where it's way harder than...</td>\n",
       "      <td>0.397971</td>\n",
       "      <td>1</td>\n",
       "      <td>0</td>\n",
       "    </tr>\n",
       "    <tr>\n",
       "      <th>10</th>\n",
       "      <td>Essentially, it is the change in volume between the transition state and the reactants. Formally...</td>\n",
       "      <td>0.772051</td>\n",
       "      <td>1</td>\n",
       "      <td>1</td>\n",
       "    </tr>\n",
       "  </tbody>\n",
       "</table>\n",
       "</div>"
      ],
      "text/plain": [
       "                                                                                                Comment  \\\n",
       "3   Is chemistry hard in uni. Ive read somewhere that its the hardest degree. But ive really been en...   \n",
       "5   It's probably my perspective too because I lived in London (250+ ppm) where it's way harder than...   \n",
       "10  Essentially, it is the change in volume between the transition state and the reactants. Formally...   \n",
       "\n",
       "    Probability  Chemical  Prediction  \n",
       "3      0.889229         1           1  \n",
       "5      0.397971         1           0  \n",
       "10     0.772051         1           1  "
      ]
     },
     "metadata": {},
     "output_type": "display_data"
    },
    {
     "data": {
      "text/html": [
       "<div>\n",
       "<style scoped>\n",
       "    .dataframe tbody tr th:only-of-type {\n",
       "        vertical-align: middle;\n",
       "    }\n",
       "\n",
       "    .dataframe tbody tr th {\n",
       "        vertical-align: top;\n",
       "    }\n",
       "\n",
       "    .dataframe thead th {\n",
       "        text-align: right;\n",
       "    }\n",
       "</style>\n",
       "<table border=\"1\" class=\"dataframe\">\n",
       "  <thead>\n",
       "    <tr style=\"text-align: right;\">\n",
       "      <th></th>\n",
       "      <th>Comment</th>\n",
       "      <th>Probability</th>\n",
       "      <th>Chemical</th>\n",
       "      <th>Prediction</th>\n",
       "    </tr>\n",
       "  </thead>\n",
       "  <tbody>\n",
       "    <tr>\n",
       "      <th>0</th>\n",
       "      <td>Personally I have no idea what my IQ is. I’ve never been tested. However, the test is an outdate...</td>\n",
       "      <td>0.297775</td>\n",
       "      <td>0</td>\n",
       "      <td>0</td>\n",
       "    </tr>\n",
       "    <tr>\n",
       "      <th>1</th>\n",
       "      <td>I'm skeptical. A heavier lid would be needed to build pressure, while a lighter lid is needed to...</td>\n",
       "      <td>0.395405</td>\n",
       "      <td>0</td>\n",
       "      <td>1</td>\n",
       "    </tr>\n",
       "    <tr>\n",
       "      <th>2</th>\n",
       "      <td>I think I have 100 cm of books on the subject. TL;DR: The problem of consciousness is universall...</td>\n",
       "      <td>0.088274</td>\n",
       "      <td>0</td>\n",
       "      <td>0</td>\n",
       "    </tr>\n",
       "  </tbody>\n",
       "</table>\n",
       "</div>"
      ],
      "text/plain": [
       "                                                                                               Comment  \\\n",
       "0  Personally I have no idea what my IQ is. I’ve never been tested. However, the test is an outdate...   \n",
       "1  I'm skeptical. A heavier lid would be needed to build pressure, while a lighter lid is needed to...   \n",
       "2  I think I have 100 cm of books on the subject. TL;DR: The problem of consciousness is universall...   \n",
       "\n",
       "   Probability  Chemical  Prediction  \n",
       "0     0.297775         0           0  \n",
       "1     0.395405         0           1  \n",
       "2     0.088274         0           0  "
      ]
     },
     "metadata": {},
     "output_type": "display_data"
    }
   ],
   "source": [
    "import warnings\n",
    "warnings.filterwarnings('ignore')\n",
    "\n",
    "def rel(x):\n",
    "    if x == 1:\n",
    "        return x\n",
    "    else:\n",
    "        return 0\n",
    "\n",
    "df_test_org_x['Chemical'] = df_test_org_x.Topic.apply(lambda x: label_dict[x]).apply(lambda x: rel(x))\n",
    "df_test_org_x['Prediction'] = preds.apply(lambda x: x[1]).apply(lambda x: rel(x))\n",
    "df_test_org_x['Probability'] = preds.apply(lambda x: x[0])\n",
    "\n",
    "from pandas import option_context\n",
    "with option_context('display.max_colwidth', 100):\n",
    "    display(df_test_org_x[['Comment', 'Probability', 'Chemical', 'Prediction']][df_test_org_x.Chemical==1].head(3))\n",
    "    display(df_test_org_x[['Comment', 'Probability', 'Chemical', 'Prediction']][df_test_org_x.Chemical==0].head(3))"
   ]
  },
  {
   "cell_type": "code",
   "execution_count": 55,
   "metadata": {},
   "outputs": [
    {
     "name": "stdout",
     "output_type": "stream",
     "text": [
      "              precision    recall  f1-score   support\n",
      "\n",
      "           0       0.86      0.86      0.86      1080\n",
      "           1       0.70      0.70      0.70       506\n",
      "\n",
      "    accuracy                           0.81      1586\n",
      "   macro avg       0.78      0.78      0.78      1586\n",
      "weighted avg       0.81      0.81      0.81      1586\n",
      "\n",
      "ROC Score: 0.7779186795491142\n",
      "F1 Score: 0.6977205153617443\n"
     ]
    },
    {
     "data": {
      "image/png": "[encoded data removed]",
      "text/plain": [
       "<Figure size 640x480 with 1 Axes>"
      ]
     },
     "metadata": {},
     "output_type": "display_data"
    }
   ],
   "source": [
    "model_inference_evaluation(df_test_org_x)"
   ]
  },
  {
   "cell_type": "code",
   "execution_count": 57,
   "metadata": {},
   "outputs": [],
   "source": [
    "df_test_org_x.to_csv(data_path + '/sample_test_labelled.csv', sep='\\t', index=False)"
   ]
  },
  {
   "cell_type": "code",
   "execution_count": null,
   "metadata": {},
   "outputs": [],
   "source": []
  }
 ],
 "metadata": {
  "colab": {
   "provenance": []
  },
  "kernelspec": {
   "display_name": "opensearch-kernel",
   "language": "python",
   "name": "opensearch-kernel"
  },
  "language_info": {
   "codemirror_mode": {
    "name": "ipython",
    "version": 3
   },
   "file_extension": ".py",
   "mimetype": "text/x-python",
   "name": "python",
   "nbconvert_exporter": "python",
   "pygments_lexer": "ipython3",
   "version": "3.10.14"
  }
 },
 "nbformat": 4,
 "nbformat_minor": 4
}
